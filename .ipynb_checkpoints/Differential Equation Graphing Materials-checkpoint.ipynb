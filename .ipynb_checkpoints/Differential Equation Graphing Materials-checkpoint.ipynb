{
 "cells": [
  {
   "cell_type": "code",
   "execution_count": null,
   "id": "57758547",
   "metadata": {},
   "outputs": [],
   "source": [
    "import numpy as np\n",
    "import matplotlib.pyplot as plt\n",
    "\n",
    "def system_of_equations(x, y):\n",
    "    \"\"\"\n",
    "    Define the system of first-order differential equations.\n",
    "    dx/dt = f(x, y)\n",
    "    dy/dt = g(x, y)\n",
    "    \"\"\"\n",
    "    dx_dt = 3*x + -2*y\n",
    "    dy_dt = 4*x + -1*y\n",
    "    return dx_dt, dy_dt\n",
    "\n",
    "# Define the range and number of points for plotting\n",
    "x_range = np.linspace(-2, 2, 20)\n",
    "y_range = np.linspace(-2, 2, 20)\n",
    "\n",
    "\n",
    "# Create a grid of initial conditions\n",
    "X, Y = np.meshgrid(x_range, y_range)\n",
    "\n",
    "# Calculate the derivatives at each point in the grid\n",
    "DX, DY = system_of_equations(X, Y)\n",
    "\n",
    "\n",
    "# Plot the phase portrait\n",
    "plt.figure(figsize=(8, 6))\n",
    "plt.streamplot(X, Y, DX, DY, density=2.0, arrowsize=1.5)\n",
    "plt.xlabel('x')\n",
    "plt.ylabel('y')\n",
    "plt.ylim(-2,2)\n",
    "plt.title('Phase Portrait of the System')\n",
    "plt.grid()\n",
    "plt.show()\n",
    "\n",
    "            \n",
    "            \n",
    "            \n",
    "    \n",
    "    \n",
    "    "
   ]
  }
 ],
 "metadata": {
  "kernelspec": {
   "display_name": "Python 3 (ipykernel)",
   "language": "python",
   "name": "python3"
  },
  "language_info": {
   "codemirror_mode": {
    "name": "ipython",
    "version": 3
   },
   "file_extension": ".py",
   "mimetype": "text/x-python",
   "name": "python",
   "nbconvert_exporter": "python",
   "pygments_lexer": "ipython3",
   "version": "3.9.13"
  }
 },
 "nbformat": 4,
 "nbformat_minor": 5
}
