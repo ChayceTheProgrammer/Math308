{
  "nbformat": 4,
  "nbformat_minor": 0,
  "metadata": {
    "colab": {
      "provenance": []
    },
    "kernelspec": {
      "name": "python3",
      "display_name": "Python 3"
    },
    "language_info": {
      "name": "python"
    }
  },
  "cells": [
    {
      "cell_type": "code",
      "execution_count": 3,
      "metadata": {
        "colab": {
          "base_uri": "https://localhost:8080/",
          "height": 39
        },
        "id": "ChaVamPtnv3W",
        "outputId": "7088c73b-9ac2-40fb-cfad-4bd9c9ad4670"
      },
      "outputs": [
        {
          "output_type": "execute_result",
          "data": {
            "text/plain": [
              "4*(-A*sin(2*t) + B*cos(2*t))*exp(-t)"
            ],
            "text/latex": "$\\displaystyle 4 \\left(- A \\sin{\\left(2 t \\right)} + B \\cos{\\left(2 t \\right)}\\right) e^{- t}$"
          },
          "metadata": {},
          "execution_count": 3
        }
      ],
      "source": [
        "from sympy import *                               # import all functions in sympy\n",
        "\n",
        "t = symbols('t')                                  # declare the symbol t\n",
        "y = Function('y')(t)                              # declare the function y\n",
        "A, B = symbols('A B', constant=True)              # define the constants A, B\n",
        "y = A*t*exp(-t)*cos(2*t) + B*t*exp(-t)*sin(2*t)   # guess of the particular solution\n",
        "DE = y.diff(t,2)+2*y.diff(t)+5*y                  # plug guess ino differential equation\n",
        "simplify(DE)                                      # simplify the expression to cancel out terms"
      ]
    },
    {
      "cell_type": "code",
      "source": [],
      "metadata": {
        "id": "UZDxZGu9oWye"
      },
      "execution_count": null,
      "outputs": []
    }
  ]
}